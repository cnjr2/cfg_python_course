{
 "cells": [
  {
   "cell_type": "markdown",
   "metadata": {},
   "source": [
    "## Exercise 11: Asking Questions"
   ]
  },
  {
   "cell_type": "code",
   "execution_count": 1,
   "metadata": {
    "collapsed": false
   },
   "outputs": [
    {
     "name": "stdout",
     "output_type": "stream",
     "text": [
      "How old are you? 23\n",
      " How tall are you? 170\n",
      " How much do you weigh? 60\n",
      "\n"
     ]
    }
   ],
   "source": [
    "print \"How old are you? \",\n",
    "age = raw_input()\n",
    "print \"How tall are you? \",\n",
    "height = raw_input()\n",
    "print \"How much do you weigh? \",\n",
    "weight = raw_input()"
   ]
  },
  {
   "cell_type": "markdown",
   "metadata": {},
   "source": [
    "> The `\",\"` at the end of each line ensure that the input is printed in the same line as the questions"
   ]
  },
  {
   "cell_type": "code",
   "execution_count": 2,
   "metadata": {
    "collapsed": false
   },
   "outputs": [
    {
     "name": "stdout",
     "output_type": "stream",
     "text": [
      "So, you're '23' old, '170' tall and '60' heavy.\n"
     ]
    }
   ],
   "source": [
    "print \"So, you're %r old, %r tall and %r heavy.\" % (age, height, weight)"
   ]
  },
  {
   "cell_type": "markdown",
   "metadata": {},
   "source": [
    "> We could also do this with the format() method we learned last week."
   ]
  },
  {
   "cell_type": "code",
   "execution_count": 3,
   "metadata": {
    "collapsed": false
   },
   "outputs": [
    {
     "name": "stdout",
     "output_type": "stream",
     "text": [
      "So, you're '23' old, '170' tall and '60' heavy.\n"
     ]
    }
   ],
   "source": [
    "print \"So, you're {0!r} old, {1!r} tall and {2!r} heavy.\".format(age, height, weight)"
   ]
  },
  {
   "cell_type": "markdown",
   "metadata": {},
   "source": [
    "We can also convert the `raw_input` to integers in order to do maths."
   ]
  },
  {
   "cell_type": "code",
   "execution_count": 4,
   "metadata": {
    "collapsed": false
   },
   "outputs": [
    {
     "name": "stdout",
     "output_type": "stream",
     "text": [
      "How old are you?34\n",
      " How old is your friend?35\n",
      " Together you are 69 years old\n"
     ]
    }
   ],
   "source": [
    "print \"How old are you?\",\n",
    "your_age = int(raw_input())\n",
    "print \"How old is your friend?\",\n",
    "friend_age = int(raw_input())\n",
    "\n",
    "print \"Together you are {0} years old\".format(your_age + friend_age)"
   ]
  },
  {
   "cell_type": "markdown",
   "metadata": {},
   "source": [
    "---\n",
    "\n",
    "## Exercise 12: Prompting People\n",
    "\n",
    "This exercise just shows a different way to use `raw_input`."
   ]
  },
  {
   "cell_type": "code",
   "execution_count": 5,
   "metadata": {
    "collapsed": false
   },
   "outputs": [
    {
     "name": "stdout",
     "output_type": "stream",
     "text": [
      "How old are you? 10\n",
      "How tall are you? 150\n",
      "How much do you weigh? 45\n",
      "So, you're '10' old, '150' tall and '45' heavy.\n"
     ]
    }
   ],
   "source": [
    "age = raw_input(\"How old are you? \")\n",
    "height = raw_input(\"How tall are you? \")\n",
    "weight = raw_input(\"How much do you weigh? \")\n",
    "\n",
    "print \"So, you're %r old, %r tall and %r heavy.\" % (age, height, weight)"
   ]
  },
  {
   "cell_type": "markdown",
   "metadata": {},
   "source": [
    "> We can read the python documentation on `raw_input` with the `pydoc raw_input` command in the terminal. On Windows we need to do `python -m pydoc raw_input`"
   ]
  },
  {
   "cell_type": "markdown",
   "metadata": {},
   "source": [
    "---\n",
    "## Exercise 13: Parameters, Unpacking, Variables\n",
    "\n",
    "**For this exercise we need to leave the notebook and work with a text editor and the terminal.**\n",
    "\n",
    "To load modules into python we use:\n",
    "```python\n",
    "from sys import argv\n",
    "```\n",
    "\n",
    "When to use `argv` and when to use `raw_input()`? We use `argv` for the user to pass instructions before the command is executed, whereas the `raw_input()` provides an \"interactive\" dialogue.\n",
    "\n",
    "> Note that the first (or zeroth) argument is always the script name"
   ]
  },
  {
   "cell_type": "markdown",
   "metadata": {},
   "source": [
    "---\n",
    "## Exercise 14: Prompting and Passing\n",
    "\n",
    "**For this exercise we need to leave the notebook and work with a text editor and the terminal.**\n",
    "\n",
    "\n",
    "> The `prompt` variable could be set to anything; it does not need to be \">\"."
   ]
  },
  {
   "cell_type": "markdown",
   "metadata": {},
   "source": [
    "---\n",
    "## Exercise 15: Reading Files\n",
    "\n",
    "**For this exercise we need to leave the notebook and work with a text editor and the terminal.**\n",
    "\n",
    "> We first have to `open` a file and then we `read` from it."
   ]
  },
  {
   "cell_type": "markdown",
   "metadata": {},
   "source": [
    "---\n",
    "## Exercise 16: Reading and Writing Files\n",
    "\n",
    "**For this exercise we need to leave the notebook and work with a text editor and the terminal.**\n",
    "\n",
    "> We can enter a name of a file that does not yet exist.\n",
    "\n",
    "> For the `open` we have to specify the `'w'` parameter to open the file with write access.\n",
    "\n",
    "> We are not actually erasing the file here, we are just removing its contents with the `truncate()` method.\n"
   ]
  },
  {
   "cell_type": "markdown",
   "metadata": {},
   "source": [
    "---\n",
    "## Exercise 17: More Files\n",
    "\n",
    "**For this exercise we need to leave the notebook and work with a text editor and the terminal.**\n",
    "\n",
    "The trick that he mentions is a shell script and not python code.\n",
    "\n",
    "```bash\n",
    "echo \"This is a test file.\" > test.txt\n",
    "```\n",
    "\n",
    "We can also just open a text editor, write the text `This is a test file.` and then save it under the name `test.txt`"
   ]
  },
  {
   "cell_type": "markdown",
   "metadata": {},
   "source": [
    "---\n",
    "## Exercise 18: Names, Variables, Code, Functions\n",
    "\n",
    "Here we will define our first functions. The syntax is very simple, we need to say that we want to define a function with `def`, then give the function a name so that later on we can call it, specify the parameters that it needs in brackets. This is then followed by \":\" after which we write the code that determines what the function does. All this code needs to be indented with 4 spaces."
   ]
  },
  {
   "cell_type": "code",
   "execution_count": 6,
   "metadata": {
    "collapsed": false
   },
   "outputs": [
    {
     "name": "stdout",
     "output_type": "stream",
     "text": [
      "arg1: 'Zed', arg2: 'Shaw'\n"
     ]
    }
   ],
   "source": [
    "# this one is like your scripts with argv\n",
    "def print_two(*args):\n",
    "    arg1, arg2 = args\n",
    "    print \"arg1: %r, arg2: %r\" % (arg1, arg2)\n",
    "\n",
    "print_two(\"Zed\",\"Shaw\")"
   ]
  },
  {
   "cell_type": "markdown",
   "metadata": {},
   "source": [
    "> This is very similar hehaviour to the `argv` from before; notice however that element 0 is not the script name"
   ]
  },
  {
   "cell_type": "code",
   "execution_count": 7,
   "metadata": {
    "collapsed": false
   },
   "outputs": [
    {
     "name": "stdout",
     "output_type": "stream",
     "text": [
      "arg1: 'Zed', arg2: 'Shaw'\n"
     ]
    }
   ],
   "source": [
    "# ok, that *args is actually pointless, we can just do this\n",
    "def print_two_again(arg1, arg2):\n",
    "    print \"arg1: %r, arg2: %r\" % (arg1, arg2)\n",
    "\n",
    "print_two_again(\"Zed\",\"Shaw\")"
   ]
  },
  {
   "cell_type": "code",
   "execution_count": 8,
   "metadata": {
    "collapsed": false
   },
   "outputs": [
    {
     "name": "stdout",
     "output_type": "stream",
     "text": [
      "arg1: 'First!'\n"
     ]
    }
   ],
   "source": [
    "# this just takes one argument\n",
    "def print_one(arg1):\n",
    "    print \"arg1: %r\" % arg1\n",
    "\n",
    "print_one(\"First!\")"
   ]
  },
  {
   "cell_type": "code",
   "execution_count": 9,
   "metadata": {
    "collapsed": false
   },
   "outputs": [
    {
     "name": "stdout",
     "output_type": "stream",
     "text": [
      "I got nothin'.\n"
     ]
    }
   ],
   "source": [
    "# this one takes no arguments\n",
    "def print_none():\n",
    "    print \"I got nothin'.\"\n",
    "\n",
    "print_none()"
   ]
  },
  {
   "cell_type": "markdown",
   "metadata": {},
   "source": [
    "---\n",
    "## Exercise 19: Functions and Variables\n",
    "\n"
   ]
  },
  {
   "cell_type": "code",
   "execution_count": 10,
   "metadata": {
    "collapsed": true
   },
   "outputs": [],
   "source": [
    "def cheese_and_crackers(cheese_count, boxes_of_crackers):\n",
    "    print \"You have %d cheeses!\" % cheese_count\n",
    "    print \"You have %d boxes of crackers!\" % boxes_of_crackers\n",
    "    print \"Man that's enough for a party!\"\n",
    "    print \"Get a blanket.\\n\""
   ]
  },
  {
   "cell_type": "code",
   "execution_count": 11,
   "metadata": {
    "collapsed": false
   },
   "outputs": [
    {
     "name": "stdout",
     "output_type": "stream",
     "text": [
      "We can just give the function numbers directly:\n",
      "You have 20 cheeses!\n",
      "You have 30 boxes of crackers!\n",
      "Man that's enough for a party!\n",
      "Get a blanket.\n",
      "\n"
     ]
    }
   ],
   "source": [
    "print \"We can just give the function numbers directly:\"\n",
    "cheese_and_crackers(20, 30)"
   ]
  },
  {
   "cell_type": "code",
   "execution_count": 12,
   "metadata": {
    "collapsed": false
   },
   "outputs": [
    {
     "name": "stdout",
     "output_type": "stream",
     "text": [
      "OR, we can use variables from our script:\n",
      "You have 10 cheeses!\n",
      "You have 50 boxes of crackers!\n",
      "Man that's enough for a party!\n",
      "Get a blanket.\n",
      "\n"
     ]
    }
   ],
   "source": [
    "print \"OR, we can use variables from our script:\"\n",
    "amount_of_cheese = 10\n",
    "amount_of_crackers = 50\n",
    "cheese_and_crackers(amount_of_cheese, amount_of_crackers)"
   ]
  },
  {
   "cell_type": "code",
   "execution_count": 13,
   "metadata": {
    "collapsed": false
   },
   "outputs": [
    {
     "name": "stdout",
     "output_type": "stream",
     "text": [
      "We can even do math inside too:\n",
      "You have 30 cheeses!\n",
      "You have 11 boxes of crackers!\n",
      "Man that's enough for a party!\n",
      "Get a blanket.\n",
      "\n"
     ]
    }
   ],
   "source": [
    "print \"We can even do math inside too:\"\n",
    "cheese_and_crackers(10 + 20, 5 + 6)"
   ]
  },
  {
   "cell_type": "code",
   "execution_count": 14,
   "metadata": {
    "collapsed": false
   },
   "outputs": [
    {
     "name": "stdout",
     "output_type": "stream",
     "text": [
      "And we can combine the two, variables and math:\n",
      "You have 110 cheeses!\n",
      "You have 1050 boxes of crackers!\n",
      "Man that's enough for a party!\n",
      "Get a blanket.\n",
      "\n"
     ]
    }
   ],
   "source": [
    "print \"And we can combine the two, variables and math:\"\n",
    "cheese_and_crackers(amount_of_cheese + 100, amount_of_crackers + 1000)"
   ]
  },
  {
   "cell_type": "markdown",
   "metadata": {},
   "source": [
    "---\n",
    "## Exercise 20: Functions and Files\n",
    "\n",
    "**For this exercise we need to leave the notebook and work with a text editor and the terminal.**\n",
    "\n",
    "> The `seek()` method just jumps to the specified line in a file.\n",
    "\n",
    "\n",
    "\n",
    "> The operator `+=` just takes a variable, adds a number and assigns it to the variable, i.e. it updates the variable\n"
   ]
  },
  {
   "cell_type": "code",
   "execution_count": 15,
   "metadata": {
    "collapsed": false
   },
   "outputs": [
    {
     "name": "stdout",
     "output_type": "stream",
     "text": [
      "2\n"
     ]
    }
   ],
   "source": [
    "current_line = 1\n",
    "current_line += 1\n",
    "\n",
    "print current_line"
   ]
  },
  {
   "cell_type": "markdown",
   "metadata": {},
   "source": [
    "---\n",
    "## Exercise 21: Functions Can Return Something\n",
    "\n",
    "In this exercise the `return` statement is very important. It tells the function to return something, i.e. when we call the function with some input, we make sure it `return`s some output."
   ]
  },
  {
   "cell_type": "code",
   "execution_count": 16,
   "metadata": {
    "collapsed": true
   },
   "outputs": [],
   "source": [
    "def add(a, b):\n",
    "    print \"ADDING %d + %d\" % (a, b)\n",
    "    return a + b\n",
    "\n",
    "def subtract(a, b):\n",
    "    print \"SUBTRACTING %d - %d\" % (a, b)\n",
    "    return a - b\n",
    "\n",
    "def multiply(a, b):\n",
    "    print \"MULTIPLYING %d * %d\" % (a, b)\n",
    "    return a * b\n",
    "\n",
    "def divide(a, b):\n",
    "    print \"DIVIDING %d / %d\" % (a, b)\n",
    "    return a / b"
   ]
  },
  {
   "cell_type": "code",
   "execution_count": 17,
   "metadata": {
    "collapsed": false
   },
   "outputs": [
    {
     "name": "stdout",
     "output_type": "stream",
     "text": [
      "Let's do some math with just functions!\n",
      "ADDING 30 + 5\n",
      "SUBTRACTING 78 - 4\n",
      "MULTIPLYING 90 * 2\n",
      "DIVIDING 100 / 2\n",
      "Age: 35, Height: 74, Weight: 180, IQ: 50\n"
     ]
    }
   ],
   "source": [
    "print \"Let's do some math with just functions!\"\n",
    "\n",
    "age = add(30, 5)\n",
    "height = subtract(78, 4)\n",
    "weight = multiply(90, 2)\n",
    "iq = divide(100, 2)\n",
    "\n",
    "print \"Age: %d, Height: %d, Weight: %d, IQ: %d\" % (age, height, weight, iq)"
   ]
  },
  {
   "cell_type": "code",
   "execution_count": 18,
   "metadata": {
    "collapsed": false
   },
   "outputs": [
    {
     "name": "stdout",
     "output_type": "stream",
     "text": [
      "Here is a puzzle.\n",
      "DIVIDING 50 / 2\n",
      "MULTIPLYING 180 * 25\n",
      "SUBTRACTING 74 - 4500\n",
      "ADDING 35 + -4426\n",
      "That becomes:  -4391 Can you do it by hand?\n"
     ]
    }
   ],
   "source": [
    "# A puzzle for the extra credit, type it in anyway.\n",
    "print \"Here is a puzzle.\"\n",
    "\n",
    "what = add(age, subtract(height, multiply(weight, divide(iq, 2))))\n",
    "\n",
    "print \"That becomes: \", what, \"Can you do it by hand?\""
   ]
  },
  {
   "cell_type": "code",
   "execution_count": 19,
   "metadata": {
    "collapsed": false
   },
   "outputs": [
    {
     "name": "stdout",
     "output_type": "stream",
     "text": [
      "DIVIDING 50 / 2\n",
      "MULTIPLYING 180 * 25\n",
      "SUBTRACTING 74 - 4500\n",
      "ADDING 35 + -4426\n",
      "That becomes:  -4391 Can you do it by hand?\n"
     ]
    }
   ],
   "source": [
    "d = divide(iq, 2)\n",
    "m = multiply(weight, d)\n",
    "s = subtract(height, m)\n",
    "what = add(age, s)\n",
    "\n",
    "print \"That becomes: \", what, \"Can you do it by hand?\""
   ]
  },
  {
   "cell_type": "markdown",
   "metadata": {},
   "source": [
    "---\n",
    "## Exercise 22: What Do You Know So Far?\n",
    "\n",
    "What were some symbols we learned?"
   ]
  },
  {
   "cell_type": "markdown",
   "metadata": {},
   "source": [
    "---\n",
    "## Exercise 23: Read Some Code\n",
    "\n",
    "Later in the course we will be using Flask. Why not look at its python code at https://github.com/mitsuhiko/flask."
   ]
  },
  {
   "cell_type": "markdown",
   "metadata": {},
   "source": [
    "---\n",
    "## Exercise 24: More Practice\n",
    "\n"
   ]
  },
  {
   "cell_type": "code",
   "execution_count": 20,
   "metadata": {
    "collapsed": false
   },
   "outputs": [
    {
     "name": "stdout",
     "output_type": "stream",
     "text": [
      "Let's practice everything.\n",
      "You'd need to know 'bout escapes with \\ that do \n",
      " newlines and \t tabs.\n"
     ]
    }
   ],
   "source": [
    "print \"Let's practice everything.\"\n",
    "print 'You\\'d need to know \\'bout escapes with \\\\ that do \\n newlines and \\t tabs.'"
   ]
  },
  {
   "cell_type": "code",
   "execution_count": 21,
   "metadata": {
    "collapsed": false
   },
   "outputs": [
    {
     "name": "stdout",
     "output_type": "stream",
     "text": [
      "--------------\n",
      "\n",
      "\tThe lovely world\n",
      "with logic so firmly planted\n",
      "cannot discern \n",
      " the needs of love\n",
      "nor comprehend passion from intuition\n",
      "and requires an explanation\n",
      "\n",
      "\t\twhere there is none.\n",
      "\n",
      "--------------\n"
     ]
    }
   ],
   "source": [
    "poem = \"\"\"\n",
    "\\tThe lovely world\n",
    "with logic so firmly planted\n",
    "cannot discern \\n the needs of love\n",
    "nor comprehend passion from intuition\n",
    "and requires an explanation\n",
    "\\n\\t\\twhere there is none.\n",
    "\"\"\"\n",
    "\n",
    "print \"--------------\"\n",
    "print poem\n",
    "print \"--------------\""
   ]
  },
  {
   "cell_type": "code",
   "execution_count": 22,
   "metadata": {
    "collapsed": false
   },
   "outputs": [
    {
     "name": "stdout",
     "output_type": "stream",
     "text": [
      "This should be five: 5\n"
     ]
    }
   ],
   "source": [
    "five = 10 - 2 + 3 - 6\n",
    "print \"This should be five: %s\" % five"
   ]
  },
  {
   "cell_type": "code",
   "execution_count": 23,
   "metadata": {
    "collapsed": true
   },
   "outputs": [],
   "source": [
    "def secret_formula(started):\n",
    "    jelly_beans = started * 500\n",
    "    jars = jelly_beans / 1000\n",
    "    crates = jars / 100\n",
    "    return jelly_beans, jars, crates"
   ]
  },
  {
   "cell_type": "code",
   "execution_count": 24,
   "metadata": {
    "collapsed": false
   },
   "outputs": [
    {
     "name": "stdout",
     "output_type": "stream",
     "text": [
      "With a starting point of: 10000\n",
      "We'd have 5000000 beans, 5000 jars, and 50 crates.\n"
     ]
    }
   ],
   "source": [
    "start_point = 10000\n",
    "beans, jars, crates = secret_formula(start_point)\n",
    "\n",
    "print \"With a starting point of: %d\" % start_point\n",
    "print \"We'd have %d beans, %d jars, and %d crates.\" % (beans, jars, crates)"
   ]
  },
  {
   "cell_type": "code",
   "execution_count": 25,
   "metadata": {
    "collapsed": false
   },
   "outputs": [
    {
     "name": "stdout",
     "output_type": "stream",
     "text": [
      "We can also do that this way:\n",
      "We'd have 500000 beans, 500 jars, and 5 crates.\n"
     ]
    }
   ],
   "source": [
    "start_point = start_point / 10\n",
    "\n",
    "print \"We can also do that this way:\"\n",
    "print \"We'd have %d beans, %d jars, and %d crates.\" % secret_formula(start_point)"
   ]
  },
  {
   "cell_type": "markdown",
   "metadata": {},
   "source": [
    "---\n",
    "## Exercise 25: Even More Practice\n",
    "\n",
    "**For this exercise we need to leave the notebook and work with a text editor and the terminal.**\n",
    "\n",
    "Once we import the `ex25` as a module, all its functions can be accessed and played with:\n",
    "\n",
    "```python\n",
    "import ex25\n",
    "sentence = \"All good things come to those who wait.\"\n",
    "words = ex25.break_words(sentence)\n",
    "words\n",
    "sorted_words = ex25.sort_words(words)\n",
    "sorted_words\n",
    "ex25.print_first_word(words)\n",
    "ex25.print_last_word(words)\n",
    "words\n",
    "ex25.print_first_word(sorted_words)\n",
    "ex25.print_last_word(sorted_words)\n",
    "sorted_words\n",
    "sorted_words = ex25.sort_sentence(sentence)\n",
    "sorted_words\n",
    "ex25.print_first_and_last(sentence)\n",
    "ex25.print_first_and_last_sorted(sentence)\n",
    "```\n",
    "\n",
    "> Notice how we need to say `ex25` everytime we want to use a function from the ex25 module. To make this more convenient, we can simply change the import statement a bit to `from ex25 import *`. With this we tell python to make all functions in `ex25` accessible without the need for prefixing. Generally this is however discouraged."
   ]
  },
  {
   "cell_type": "code",
   "execution_count": 26,
   "metadata": {
    "collapsed": false
   },
   "outputs": [
    {
     "name": "stdout",
     "output_type": "stream",
     "text": [
      "All good things come to those who wait.\n"
     ]
    }
   ],
   "source": [
    "sentence = \"All good things come to those who wait.\"\n",
    "print sentence"
   ]
  },
  {
   "cell_type": "code",
   "execution_count": 27,
   "metadata": {
    "collapsed": false
   },
   "outputs": [
    {
     "name": "stdout",
     "output_type": "stream",
     "text": [
      "['All', 'good', 'things', 'come', 'to', 'those', 'who', 'wait.']\n"
     ]
    }
   ],
   "source": [
    "def break_words(stuff):\n",
    "    \"\"\"This function will break up words for us.\"\"\"\n",
    "    words = stuff.split(' ')\n",
    "    return words\n",
    "\n",
    "words_raw = break_words(sentence)\n",
    "print words_raw"
   ]
  },
  {
   "cell_type": "code",
   "execution_count": 28,
   "metadata": {
    "collapsed": false
   },
   "outputs": [
    {
     "name": "stdout",
     "output_type": "stream",
     "text": [
      "['All', 'come', 'good', 'things', 'those', 'to', 'wait.', 'who']\n"
     ]
    }
   ],
   "source": [
    "def sort_words(words):\n",
    "    \"\"\"Sorts the words.\"\"\"\n",
    "    return sorted(words)\n",
    "\n",
    "print sort_words(words_raw)"
   ]
  },
  {
   "cell_type": "code",
   "execution_count": 29,
   "metadata": {
    "collapsed": false
   },
   "outputs": [
    {
     "name": "stdout",
     "output_type": "stream",
     "text": [
      "All\n"
     ]
    }
   ],
   "source": [
    "def print_first_word(words):\n",
    "    \"\"\"Prints the first word after popping it off.\"\"\"\n",
    "    word = words.pop(0)\n",
    "    print word\n",
    "\n",
    "print_first_word(words_raw)"
   ]
  },
  {
   "cell_type": "markdown",
   "metadata": {},
   "source": [
    "Here the `pop()` method actually change the words_raw object. So if we run the function multiple times, everytime the first word is removed."
   ]
  },
  {
   "cell_type": "code",
   "execution_count": 30,
   "metadata": {
    "collapsed": false
   },
   "outputs": [
    {
     "name": "stdout",
     "output_type": "stream",
     "text": [
      "good\n"
     ]
    }
   ],
   "source": [
    "print_first_word(words_raw)"
   ]
  },
  {
   "cell_type": "code",
   "execution_count": 31,
   "metadata": {
    "collapsed": false
   },
   "outputs": [
    {
     "name": "stdout",
     "output_type": "stream",
     "text": [
      "wait.\n"
     ]
    }
   ],
   "source": [
    "def print_last_word(words):\n",
    "    \"\"\"Prints the last word after popping it off.\"\"\"\n",
    "    word = words.pop(-1)\n",
    "    print word\n",
    "\n",
    "print_last_word(words_raw)"
   ]
  },
  {
   "cell_type": "markdown",
   "metadata": {},
   "source": [
    "The same is true for this function's use of `pop()`. There the -1 indicates the last word in the list."
   ]
  },
  {
   "cell_type": "code",
   "execution_count": 32,
   "metadata": {
    "collapsed": false
   },
   "outputs": [
    {
     "name": "stdout",
     "output_type": "stream",
     "text": [
      "who\n"
     ]
    }
   ],
   "source": [
    "print_last_word(words_raw)"
   ]
  },
  {
   "cell_type": "code",
   "execution_count": 33,
   "metadata": {
    "collapsed": false
   },
   "outputs": [
    {
     "name": "stdout",
     "output_type": "stream",
     "text": [
      "['All', 'come', 'good', 'things', 'those', 'to', 'wait.', 'who']\n"
     ]
    }
   ],
   "source": [
    "def sort_sentence(sentence):\n",
    "    \"\"\"Takes in a full sentence and returns the sorted words.\"\"\"\n",
    "    words = break_words(sentence)\n",
    "    return sort_words(words)\n",
    "\n",
    "print sort_sentence(sentence)"
   ]
  },
  {
   "cell_type": "code",
   "execution_count": 34,
   "metadata": {
    "collapsed": false
   },
   "outputs": [
    {
     "name": "stdout",
     "output_type": "stream",
     "text": [
      "All\n",
      "wait.\n"
     ]
    }
   ],
   "source": [
    "def print_first_and_last(sentence):\n",
    "    \"\"\"Prints the first and last words of the sentence.\"\"\"\n",
    "    words = break_words(sentence)\n",
    "    print_first_word(words)\n",
    "    print_last_word(words)\n",
    "\n",
    "print_first_and_last(sentence)"
   ]
  },
  {
   "cell_type": "code",
   "execution_count": 35,
   "metadata": {
    "collapsed": false
   },
   "outputs": [
    {
     "name": "stdout",
     "output_type": "stream",
     "text": [
      "All\n",
      "who\n"
     ]
    }
   ],
   "source": [
    "def print_first_and_last_sorted(sentence):\n",
    "    \"\"\"Sorts the words then prints the first and last one.\"\"\"\n",
    "    words = sort_sentence(sentence)\n",
    "    print_first_word(words)\n",
    "    print_last_word(words)\n",
    "\n",
    "print_first_and_last_sorted(sentence)"
   ]
  },
  {
   "cell_type": "markdown",
   "metadata": {},
   "source": [
    "---\n",
    "## Exercise 26: Congratulations, Take a Test!"
   ]
  },
  {
   "cell_type": "code",
   "execution_count": 36,
   "metadata": {
    "collapsed": false
   },
   "outputs": [
    {
     "name": "stdout",
     "output_type": "stream",
     "text": [
      "Let's practice everything.\n",
      "You'd need to know 'bout escapes with \\ that do \n",
      " newlines and \t tabs.\n"
     ]
    }
   ],
   "source": [
    "print \"Let's practice everything.\"\n",
    "print 'You\\'d need to know \\'bout escapes with \\\\ that do \\n newlines and \\t tabs.'"
   ]
  },
  {
   "cell_type": "code",
   "execution_count": 37,
   "metadata": {
    "collapsed": false
   },
   "outputs": [
    {
     "name": "stdout",
     "output_type": "stream",
     "text": [
      "--------------\n",
      "\n",
      "\tThe lovely world\n",
      "with logic so firmly planted\n",
      "cannot discern \n",
      " the needs of love\n",
      "nor comprehend passion from intuition\n",
      "and requires an explantion\n",
      "\n",
      "\t\twhere there is none.\n",
      "\n",
      "--------------\n"
     ]
    }
   ],
   "source": [
    "poem = \"\"\"\n",
    "\\tThe lovely world\n",
    "with logic so firmly planted\n",
    "cannot discern \\n the needs of love\n",
    "nor comprehend passion from intuition\n",
    "and requires an explantion\n",
    "\\n\\t\\twhere there is none.\n",
    "\"\"\"\n",
    "\n",
    "print \"--------------\"\n",
    "print poem\n",
    "print \"--------------\""
   ]
  },
  {
   "cell_type": "code",
   "execution_count": 38,
   "metadata": {
    "collapsed": false
   },
   "outputs": [
    {
     "name": "stdout",
     "output_type": "stream",
     "text": [
      "This should be five: 6\n"
     ]
    }
   ],
   "source": [
    "five = 10 - 2 + 3 - 5 # should be: 10 - 2 + 3 - 6\n",
    "print \"This should be five: %s\" % five"
   ]
  },
  {
   "cell_type": "code",
   "execution_count": 39,
   "metadata": {
    "collapsed": false
   },
   "outputs": [
    {
     "ename": "SyntaxError",
     "evalue": "unexpected character after line continuation character (<ipython-input-39-d5f33bddcf68>, line 3)",
     "output_type": "error",
     "traceback": [
      "\u001b[0;36m  File \u001b[0;32m\"<ipython-input-39-d5f33bddcf68>\"\u001b[0;36m, line \u001b[0;32m3\u001b[0m\n\u001b[0;31m    jars = jelly_beans \\ 1000 #here we need to fix the \"\\\" to a \"/\"\u001b[0m\n\u001b[0m                                                                   ^\u001b[0m\n\u001b[0;31mSyntaxError\u001b[0m\u001b[0;31m:\u001b[0m unexpected character after line continuation character\n"
     ]
    }
   ],
   "source": [
    "def secret_formula(started):\n",
    "    jelly_beans = started * 500\n",
    "    jars = jelly_beans \\ 1000 #here we need to fix the \"\\\" to a \"/\"\n",
    "    crates = jars / 100\n",
    "    return jelly_beans, jars, crates\n",
    "\n",
    "start_point = 10000\n",
    "beans, jars, crates == secret_formula(start-point) #here we need a single \"=\" sign and the it should be \"start_point\"\n",
    "\n",
    "print \"With a starting point of: %d\" % start_point\n",
    "print \"We'd have %d jeans, %d jars, and %d crates.\" % (beans, jars, crates)"
   ]
  },
  {
   "cell_type": "code",
   "execution_count": 40,
   "metadata": {
    "collapsed": false
   },
   "outputs": [
    {
     "ename": "SyntaxError",
     "evalue": "invalid syntax (<ipython-input-40-4881b80906fa>, line 4)",
     "output_type": "error",
     "traceback": [
      "\u001b[0;36m  File \u001b[0;32m\"<ipython-input-40-4881b80906fa>\"\u001b[0;36m, line \u001b[0;32m4\u001b[0m\n\u001b[0;31m    print \"We'd have %d beans, %d jars, and %d crabapples.\" % secret_formula(start_pont #the code is not complete.\u001b[0m\n\u001b[0m                                                                                                                  ^\u001b[0m\n\u001b[0;31mSyntaxError\u001b[0m\u001b[0;31m:\u001b[0m invalid syntax\n"
     ]
    }
   ],
   "source": [
    "start_point = start_point / 10\n",
    "\n",
    "print \"We can also do that this way:\"\n",
    "print \"We'd have %d beans, %d jars, and %d crabapples.\" % secret_formula(start_pont #the code is not complete."
   ]
  },
  {
   "cell_type": "code",
   "execution_count": 41,
   "metadata": {
    "collapsed": true
   },
   "outputs": [],
   "source": [
    "sentence = \"All god\\tthings come to those who weight.\""
   ]
  },
  {
   "cell_type": "code",
   "execution_count": 42,
   "metadata": {
    "collapsed": false
   },
   "outputs": [
    {
     "name": "stdout",
     "output_type": "stream",
     "text": [
      "['All', 'god\\tthings', 'come', 'to', 'those', 'who', 'weight.']\n"
     ]
    }
   ],
   "source": [
    "def break_words(stuff):\n",
    "    \"\"\"This function will break up words for us.\"\"\"\n",
    "    words = stuff.split(' ')\n",
    "    return words\n",
    "\n",
    "words = break_words(sentence)\n",
    "print(words)"
   ]
  },
  {
   "cell_type": "code",
   "execution_count": 43,
   "metadata": {
    "collapsed": false
   },
   "outputs": [
    {
     "name": "stdout",
     "output_type": "stream",
     "text": [
      "['All', 'come', 'god\\tthings', 'those', 'to', 'weight.', 'who']\n"
     ]
    }
   ],
   "source": [
    "def sort_words(words):\n",
    "    \"\"\"Sorts the words.\"\"\"\n",
    "    return sorted(words)\n",
    "\n",
    "print sort_words(words)"
   ]
  },
  {
   "cell_type": "code",
   "execution_count": 44,
   "metadata": {
    "collapsed": false
   },
   "outputs": [
    {
     "ename": "SyntaxError",
     "evalue": "invalid syntax (<ipython-input-44-34a3ffe9b225>, line 1)",
     "output_type": "error",
     "traceback": [
      "\u001b[0;36m  File \u001b[0;32m\"<ipython-input-44-34a3ffe9b225>\"\u001b[0;36m, line \u001b[0;32m1\u001b[0m\n\u001b[0;31m    def print_first_word(words) #the \":\" is missing\u001b[0m\n\u001b[0m                                                   ^\u001b[0m\n\u001b[0;31mSyntaxError\u001b[0m\u001b[0;31m:\u001b[0m invalid syntax\n"
     ]
    }
   ],
   "source": [
    "def print_first_word(words) #the \":\" is missing\n",
    "    \"\"\"Prints the first word after popping it off.\"\"\"\n",
    "    word = words.poop(0) #the method is called \"pop\"\n",
    "    print word\n",
    "\n",
    "print_first_word(words)"
   ]
  },
  {
   "cell_type": "code",
   "execution_count": 45,
   "metadata": {
    "collapsed": false
   },
   "outputs": [
    {
     "ename": "SyntaxError",
     "evalue": "invalid syntax (<ipython-input-45-95fc083d3bb9>, line 4)",
     "output_type": "error",
     "traceback": [
      "\u001b[0;36m  File \u001b[0;32m\"<ipython-input-45-95fc083d3bb9>\"\u001b[0;36m, line \u001b[0;32m4\u001b[0m\n\u001b[0;31m    print word\u001b[0m\n\u001b[0m        ^\u001b[0m\n\u001b[0;31mSyntaxError\u001b[0m\u001b[0;31m:\u001b[0m invalid syntax\n"
     ]
    }
   ],
   "source": [
    "def print_last_word(words):\n",
    "    \"\"\"Prints the last word after popping it off.\"\"\"\n",
    "    word = words.pop(-1 #the closing bracket is missing\n",
    "    print word\n",
    "\n",
    "print_last_word(words)"
   ]
  },
  {
   "cell_type": "code",
   "execution_count": 46,
   "metadata": {
    "collapsed": false
   },
   "outputs": [
    {
     "data": {
      "text/plain": [
       "['All', 'come', 'god\\tthings', 'those', 'to', 'weight.', 'who']"
      ]
     },
     "execution_count": 46,
     "metadata": {},
     "output_type": "execute_result"
    }
   ],
   "source": [
    "def sort_sentence(sentence):\n",
    "    \"\"\"Takes in a full sentence and returns the sorted words.\"\"\"\n",
    "    words = break_words(sentence)\n",
    "    return sort_words(words)\n",
    "\n",
    "sort_sentence(sentence)"
   ]
  },
  {
   "cell_type": "code",
   "execution_count": 47,
   "metadata": {
    "collapsed": false
   },
   "outputs": [
    {
     "name": "stdout",
     "output_type": "stream",
     "text": [
      "All\n",
      "weight.\n"
     ]
    }
   ],
   "source": [
    "def print_first_and_last(sentence):\n",
    "    \"\"\"Prints the first and last words of the sentence.\"\"\"\n",
    "    words = break_words(sentence)\n",
    "    print_first_word(words)\n",
    "    print_last_word(words)\n",
    "\n",
    "print_first_and_last(sentence)"
   ]
  },
  {
   "cell_type": "code",
   "execution_count": 48,
   "metadata": {
    "collapsed": false
   },
   "outputs": [
    {
     "name": "stdout",
     "output_type": "stream",
     "text": [
      "All\n",
      "who\n"
     ]
    }
   ],
   "source": [
    "def print_first_and_last_sorted(sentence):\n",
    "    \"\"\"Sorts the words then prints the first and last one.\"\"\"\n",
    "    words = sort_sentence(sentence)\n",
    "    print_first_word(words)\n",
    "    print_last_word(words)\n",
    "\n",
    "print_first_and_last_sorted(sentence)"
   ]
  },
  {
   "cell_type": "markdown",
   "metadata": {},
   "source": [
    "These are the commands to then be executed in the python shell:\n",
    "\n",
    "```python\n",
    "sentence = \"All god\\tthings come to those who weight.\"\n",
    "\n",
    "#we did not load the module with \"import ex25\"\n",
    "\n",
    "words = ex25.break_words(sentence)\n",
    "sorted_words = ex25.sort_words(words)\n",
    "\n",
    "print_first_word(words) #for this to work we need to load the module with \"from ex25 import *\"\n",
    "print_last_word(words) #same here\n",
    ".print_first_word(sorted_words) #we either need to remove the \".\" or put ex25.print_first_word(sorted_words)\n",
    "print_last_word(sorted_words)\n",
    "sorted_words = ex25.sort_sentence(sentence)\n",
    "prin sorted_words #print is missing the \"t\"\n",
    "\n",
    "print_irst_and_last(sentence)\n",
    "\n",
    "   print_first_a_last_sorted(senence) #we should not indent here and the function print_first_a_last_sorted() does not exist\n",
    "```"
   ]
  },
  {
   "cell_type": "markdown",
   "metadata": {},
   "source": [
    "---\n",
    "## Exercise 27: Memorizing Logic"
   ]
  },
  {
   "cell_type": "code",
   "execution_count": 49,
   "metadata": {
    "collapsed": false
   },
   "outputs": [
    {
     "data": {
      "text/plain": [
       "True"
      ]
     },
     "execution_count": 49,
     "metadata": {},
     "output_type": "execute_result"
    }
   ],
   "source": [
    "True and True"
   ]
  },
  {
   "cell_type": "code",
   "execution_count": 50,
   "metadata": {
    "collapsed": false
   },
   "outputs": [
    {
     "data": {
      "text/plain": [
       "False"
      ]
     },
     "execution_count": 50,
     "metadata": {},
     "output_type": "execute_result"
    }
   ],
   "source": [
    "False and True"
   ]
  },
  {
   "cell_type": "code",
   "execution_count": 51,
   "metadata": {
    "collapsed": false
   },
   "outputs": [
    {
     "data": {
      "text/plain": [
       "False"
      ]
     },
     "execution_count": 51,
     "metadata": {},
     "output_type": "execute_result"
    }
   ],
   "source": [
    "1 == 1 and 2 == 1"
   ]
  },
  {
   "cell_type": "code",
   "execution_count": 52,
   "metadata": {
    "collapsed": false
   },
   "outputs": [
    {
     "data": {
      "text/plain": [
       "True"
      ]
     },
     "execution_count": 52,
     "metadata": {},
     "output_type": "execute_result"
    }
   ],
   "source": [
    "\"test\" == \"test\""
   ]
  },
  {
   "cell_type": "code",
   "execution_count": 53,
   "metadata": {
    "collapsed": false
   },
   "outputs": [
    {
     "data": {
      "text/plain": [
       "True"
      ]
     },
     "execution_count": 53,
     "metadata": {},
     "output_type": "execute_result"
    }
   ],
   "source": [
    "1 == 1 or 2 != 1"
   ]
  },
  {
   "cell_type": "code",
   "execution_count": 54,
   "metadata": {
    "collapsed": false
   },
   "outputs": [
    {
     "data": {
      "text/plain": [
       "True"
      ]
     },
     "execution_count": 54,
     "metadata": {},
     "output_type": "execute_result"
    }
   ],
   "source": [
    "True and 1 == 1"
   ]
  },
  {
   "cell_type": "code",
   "execution_count": 55,
   "metadata": {
    "collapsed": false
   },
   "outputs": [
    {
     "data": {
      "text/plain": [
       "False"
      ]
     },
     "execution_count": 55,
     "metadata": {},
     "output_type": "execute_result"
    }
   ],
   "source": [
    "False and 0 != 0"
   ]
  },
  {
   "cell_type": "code",
   "execution_count": 56,
   "metadata": {
    "collapsed": false
   },
   "outputs": [
    {
     "data": {
      "text/plain": [
       "True"
      ]
     },
     "execution_count": 56,
     "metadata": {},
     "output_type": "execute_result"
    }
   ],
   "source": [
    "True or 1 == 1"
   ]
  },
  {
   "cell_type": "code",
   "execution_count": 57,
   "metadata": {
    "collapsed": false
   },
   "outputs": [
    {
     "data": {
      "text/plain": [
       "False"
      ]
     },
     "execution_count": 57,
     "metadata": {},
     "output_type": "execute_result"
    }
   ],
   "source": [
    "\"test\" == \"testing\""
   ]
  },
  {
   "cell_type": "code",
   "execution_count": 58,
   "metadata": {
    "collapsed": false
   },
   "outputs": [
    {
     "data": {
      "text/plain": [
       "False"
      ]
     },
     "execution_count": 58,
     "metadata": {},
     "output_type": "execute_result"
    }
   ],
   "source": [
    "1 != 0 and 2 == 1"
   ]
  },
  {
   "cell_type": "code",
   "execution_count": 59,
   "metadata": {
    "collapsed": false
   },
   "outputs": [
    {
     "data": {
      "text/plain": [
       "True"
      ]
     },
     "execution_count": 59,
     "metadata": {},
     "output_type": "execute_result"
    }
   ],
   "source": [
    "\"test\" != \"testing\""
   ]
  },
  {
   "cell_type": "code",
   "execution_count": 60,
   "metadata": {
    "collapsed": false
   },
   "outputs": [
    {
     "data": {
      "text/plain": [
       "False"
      ]
     },
     "execution_count": 60,
     "metadata": {},
     "output_type": "execute_result"
    }
   ],
   "source": [
    "\"test\" == 1"
   ]
  },
  {
   "cell_type": "code",
   "execution_count": 61,
   "metadata": {
    "collapsed": false
   },
   "outputs": [
    {
     "data": {
      "text/plain": [
       "True"
      ]
     },
     "execution_count": 61,
     "metadata": {},
     "output_type": "execute_result"
    }
   ],
   "source": [
    "not (True and False)"
   ]
  },
  {
   "cell_type": "code",
   "execution_count": 62,
   "metadata": {
    "collapsed": false
   },
   "outputs": [
    {
     "data": {
      "text/plain": [
       "False"
      ]
     },
     "execution_count": 62,
     "metadata": {},
     "output_type": "execute_result"
    }
   ],
   "source": [
    "not (1 == 1 and 0 != 1)"
   ]
  },
  {
   "cell_type": "code",
   "execution_count": 63,
   "metadata": {
    "collapsed": false
   },
   "outputs": [
    {
     "data": {
      "text/plain": [
       "False"
      ]
     },
     "execution_count": 63,
     "metadata": {},
     "output_type": "execute_result"
    }
   ],
   "source": [
    "not (10 == 1 or 1000 == 1000)"
   ]
  },
  {
   "cell_type": "code",
   "execution_count": 64,
   "metadata": {
    "collapsed": false
   },
   "outputs": [
    {
     "data": {
      "text/plain": [
       "False"
      ]
     },
     "execution_count": 64,
     "metadata": {},
     "output_type": "execute_result"
    }
   ],
   "source": [
    "not (1 != 10 or 3 == 4)"
   ]
  },
  {
   "cell_type": "code",
   "execution_count": 65,
   "metadata": {
    "collapsed": false
   },
   "outputs": [
    {
     "data": {
      "text/plain": [
       "True"
      ]
     },
     "execution_count": 65,
     "metadata": {},
     "output_type": "execute_result"
    }
   ],
   "source": [
    "not (\"testing\" == \"testing\" and \"Zed\" == \"Cool Guy\")"
   ]
  },
  {
   "cell_type": "code",
   "execution_count": 66,
   "metadata": {
    "collapsed": false
   },
   "outputs": [
    {
     "data": {
      "text/plain": [
       "True"
      ]
     },
     "execution_count": 66,
     "metadata": {},
     "output_type": "execute_result"
    }
   ],
   "source": [
    "1 == 1 and (not (\"testing\" == 1 or 1 == 0))"
   ]
  },
  {
   "cell_type": "code",
   "execution_count": 67,
   "metadata": {
    "collapsed": false
   },
   "outputs": [
    {
     "data": {
      "text/plain": [
       "False"
      ]
     },
     "execution_count": 67,
     "metadata": {},
     "output_type": "execute_result"
    }
   ],
   "source": [
    "\"chunky\" == \"bacon\" and (not (3 == 4 or 3 == 3))"
   ]
  },
  {
   "cell_type": "code",
   "execution_count": 68,
   "metadata": {
    "collapsed": false
   },
   "outputs": [
    {
     "data": {
      "text/plain": [
       "False"
      ]
     },
     "execution_count": 68,
     "metadata": {},
     "output_type": "execute_result"
    }
   ],
   "source": [
    "3 == 3 and (not (\"testing\" == \"testing\" or \"Python\" == \"Fun\"))"
   ]
  },
  {
   "cell_type": "code",
   "execution_count": 69,
   "metadata": {
    "collapsed": false
   },
   "outputs": [
    {
     "data": {
      "text/plain": [
       "False"
      ]
     },
     "execution_count": 69,
     "metadata": {},
     "output_type": "execute_result"
    }
   ],
   "source": [
    "3 != 4 and not (\"testing\" != \"test\" or \"Python\" == \"Python\")"
   ]
  },
  {
   "cell_type": "markdown",
   "metadata": {},
   "source": [
    "---\n",
    "## Exercise 29: What If"
   ]
  },
  {
   "cell_type": "code",
   "execution_count": 70,
   "metadata": {
    "collapsed": true
   },
   "outputs": [],
   "source": [
    "people = 20\n",
    "cats = 30\n",
    "dogs = 15"
   ]
  },
  {
   "cell_type": "code",
   "execution_count": 71,
   "metadata": {
    "collapsed": false
   },
   "outputs": [
    {
     "name": "stdout",
     "output_type": "stream",
     "text": [
      "Too many cats! The world is doomed!\n"
     ]
    }
   ],
   "source": [
    "if people < cats:\n",
    "    print \"Too many cats! The world is doomed!\""
   ]
  },
  {
   "cell_type": "code",
   "execution_count": 72,
   "metadata": {
    "collapsed": true
   },
   "outputs": [],
   "source": [
    "if people > cats:\n",
    "    print \"Not many cats! The world is saved!\""
   ]
  },
  {
   "cell_type": "code",
   "execution_count": 73,
   "metadata": {
    "collapsed": true
   },
   "outputs": [],
   "source": [
    "if people < dogs:\n",
    "    print \"The world is drooled on!\""
   ]
  },
  {
   "cell_type": "code",
   "execution_count": 74,
   "metadata": {
    "collapsed": false
   },
   "outputs": [
    {
     "name": "stdout",
     "output_type": "stream",
     "text": [
      "The world is dry!\n"
     ]
    }
   ],
   "source": [
    "if people > dogs:\n",
    "    print \"The world is dry!\""
   ]
  },
  {
   "cell_type": "code",
   "execution_count": 75,
   "metadata": {
    "collapsed": true
   },
   "outputs": [],
   "source": [
    "dogs += 5"
   ]
  },
  {
   "cell_type": "code",
   "execution_count": 76,
   "metadata": {
    "collapsed": false
   },
   "outputs": [
    {
     "name": "stdout",
     "output_type": "stream",
     "text": [
      "People are greater than or equal to dogs.\n"
     ]
    }
   ],
   "source": [
    "if people >= dogs:\n",
    "    print \"People are greater than or equal to dogs.\""
   ]
  },
  {
   "cell_type": "code",
   "execution_count": 77,
   "metadata": {
    "collapsed": false
   },
   "outputs": [
    {
     "name": "stdout",
     "output_type": "stream",
     "text": [
      "People are less than or equal to dogs.\n"
     ]
    }
   ],
   "source": [
    "if people <= dogs:\n",
    "    print \"People are less than or equal to dogs.\""
   ]
  },
  {
   "cell_type": "code",
   "execution_count": 78,
   "metadata": {
    "collapsed": false
   },
   "outputs": [
    {
     "name": "stdout",
     "output_type": "stream",
     "text": [
      "People are dogs.\n"
     ]
    }
   ],
   "source": [
    "if people == dogs:\n",
    "    print \"People are dogs.\""
   ]
  },
  {
   "cell_type": "markdown",
   "metadata": {},
   "source": [
    "---\n",
    "## Exercise 30: Else and If"
   ]
  },
  {
   "cell_type": "code",
   "execution_count": 79,
   "metadata": {
    "collapsed": true
   },
   "outputs": [],
   "source": [
    "people = 30\n",
    "cars = 40\n",
    "trucks = 15"
   ]
  },
  {
   "cell_type": "code",
   "execution_count": 80,
   "metadata": {
    "collapsed": false
   },
   "outputs": [
    {
     "name": "stdout",
     "output_type": "stream",
     "text": [
      "We should take the cars.\n"
     ]
    }
   ],
   "source": [
    "if cars > people:\n",
    "    print \"We should take the cars.\"\n",
    "elif cars < people:\n",
    "    print \"We should not take the cars.\"\n",
    "else:\n",
    "    print \"We can't decide.\""
   ]
  },
  {
   "cell_type": "code",
   "execution_count": 81,
   "metadata": {
    "collapsed": false
   },
   "outputs": [
    {
     "name": "stdout",
     "output_type": "stream",
     "text": [
      "Maybe we could take the trucks.\n"
     ]
    }
   ],
   "source": [
    "if trucks > cars:\n",
    "    print \"That's too many trucks.\"\n",
    "elif trucks < cars:\n",
    "    print \"Maybe we could take the trucks.\"\n",
    "else:\n",
    "    print \"We still can't decide.\""
   ]
  },
  {
   "cell_type": "code",
   "execution_count": 82,
   "metadata": {
    "collapsed": false
   },
   "outputs": [
    {
     "name": "stdout",
     "output_type": "stream",
     "text": [
      "Alright, let's just take the trucks.\n"
     ]
    }
   ],
   "source": [
    "if people > trucks:\n",
    "    print \"Alright, let's just take the trucks.\"\n",
    "else:\n",
    "    print \"Fine, let's stay home then.\""
   ]
  },
  {
   "cell_type": "code",
   "execution_count": 83,
   "metadata": {
    "collapsed": false
   },
   "outputs": [
    {
     "name": "stdout",
     "output_type": "stream",
     "text": [
      "TRUE\n"
     ]
    }
   ],
   "source": [
    "if cars > people or trucks < cars:\n",
    "    print \"TRUE\"\n",
    "else:\n",
    "    print \"FALSE\""
   ]
  },
  {
   "cell_type": "markdown",
   "metadata": {},
   "source": [
    "---\n",
    "## Exercise 31: Making Decisions\n",
    "\n",
    "Here nested descision are introducted."
   ]
  },
  {
   "cell_type": "code",
   "execution_count": 84,
   "metadata": {
    "collapsed": false
   },
   "outputs": [
    {
     "name": "stdout",
     "output_type": "stream",
     "text": [
      "You enter a dark room with two doors.  Do you go through door #1 or door #2?\n",
      "> 1\n",
      "There's a giant bear here eating a cheese cake.  What do you do?\n",
      "1. Take the cake.\n",
      "2. Scream at the bear.\n",
      "> 2\n",
      "The bear eats your legs off.  Good job!\n"
     ]
    }
   ],
   "source": [
    "print \"You enter a dark room with two doors.  Do you go through door #1 or door #2?\"\n",
    "\n",
    "door = raw_input(\"> \")\n",
    "\n",
    "if door == \"1\":\n",
    "    print \"There's a giant bear here eating a cheese cake.  What do you do?\"\n",
    "    print \"1. Take the cake.\"\n",
    "    print \"2. Scream at the bear.\"\n",
    "\n",
    "    bear = raw_input(\"> \")\n",
    "\n",
    "    if bear == \"1\":\n",
    "        print \"The bear eats your face off.  Good job!\"\n",
    "    elif bear == \"2\":\n",
    "        print \"The bear eats your legs off.  Good job!\"\n",
    "    else:\n",
    "        print \"Well, doing %s is probably better.  Bear runs away.\" % bear\n",
    "\n",
    "elif door == \"2\":\n",
    "    print \"You stare into the endless abyss at Cthulhu's retina.\"\n",
    "    print \"1. Blueberries.\"\n",
    "    print \"2. Yellow jacket clothespins.\"\n",
    "    print \"3. Understanding revolvers yelling melodies.\"\n",
    "\n",
    "    insanity = raw_input(\"> \")\n",
    "\n",
    "    if insanity == \"1\" or insanity == \"2\":\n",
    "        print \"Your body survives powered by a mind of jello.  Good job!\"\n",
    "    else:\n",
    "        print \"The insanity rots your eyes into a pool of muck.  Good job!\"\n",
    "\n",
    "else:\n",
    "    print \"You stumble around and fall on a knife and die.  Good job!\""
   ]
  },
  {
   "cell_type": "markdown",
   "metadata": {},
   "source": [
    "---\n",
    "## Exercise 32: Loops and Lists"
   ]
  },
  {
   "cell_type": "code",
   "execution_count": 85,
   "metadata": {
    "collapsed": true
   },
   "outputs": [],
   "source": [
    "the_count = [1, 2, 3, 4, 5]\n",
    "fruits = ['apples', 'oranges', 'pears', 'apricots']\n",
    "change = [1, 'pennies', 2, 'dimes', 3, 'quarters']"
   ]
  },
  {
   "cell_type": "code",
   "execution_count": 86,
   "metadata": {
    "collapsed": false
   },
   "outputs": [
    {
     "name": "stdout",
     "output_type": "stream",
     "text": [
      "This is count 1\n",
      "This is count 2\n",
      "This is count 3\n",
      "This is count 4\n",
      "This is count 5\n"
     ]
    }
   ],
   "source": [
    "# this first kind of for-loop goes through a list\n",
    "for number in the_count:\n",
    "    print \"This is count %d\" % number"
   ]
  },
  {
   "cell_type": "code",
   "execution_count": 87,
   "metadata": {
    "collapsed": false
   },
   "outputs": [
    {
     "name": "stdout",
     "output_type": "stream",
     "text": [
      "A fruit of type: apples\n",
      "A fruit of type: oranges\n",
      "A fruit of type: pears\n",
      "A fruit of type: apricots\n"
     ]
    }
   ],
   "source": [
    "# same as above\n",
    "for fruit in fruits:\n",
    "    print \"A fruit of type: %s\" % fruit"
   ]
  },
  {
   "cell_type": "code",
   "execution_count": 88,
   "metadata": {
    "collapsed": false
   },
   "outputs": [
    {
     "name": "stdout",
     "output_type": "stream",
     "text": [
      "I got 1\n",
      "I got 'pennies'\n",
      "I got 2\n",
      "I got 'dimes'\n",
      "I got 3\n",
      "I got 'quarters'\n"
     ]
    }
   ],
   "source": [
    "# also we can go through mixed lists too\n",
    "# notice we have to use %r since we don't know what's in it\n",
    "for i in change:\n",
    "    print \"I got %r\" % i"
   ]
  },
  {
   "cell_type": "code",
   "execution_count": 89,
   "metadata": {
    "collapsed": false
   },
   "outputs": [
    {
     "name": "stdout",
     "output_type": "stream",
     "text": [
      "Adding 0 to the list.\n",
      "Adding 1 to the list.\n",
      "Adding 2 to the list.\n",
      "Adding 3 to the list.\n",
      "Adding 4 to the list.\n",
      "Adding 5 to the list.\n"
     ]
    }
   ],
   "source": [
    "# we can also build lists, first start with an empty one\n",
    "elements = []\n",
    "\n",
    "# then use the range function to do 0 to 5 counts\n",
    "for i in range(0, 6):\n",
    "    print \"Adding %d to the list.\" % i\n",
    "    # append is a function that lists understand\n",
    "    elements.append(i)"
   ]
  },
  {
   "cell_type": "code",
   "execution_count": 90,
   "metadata": {
    "collapsed": false
   },
   "outputs": [
    {
     "name": "stdout",
     "output_type": "stream",
     "text": [
      "Element was: 0\n",
      "Element was: 1\n",
      "Element was: 2\n",
      "Element was: 3\n",
      "Element was: 4\n",
      "Element was: 5\n"
     ]
    }
   ],
   "source": [
    "# now we can print them out too\n",
    "for i in elements:\n",
    "    print \"Element was: %d\" % i"
   ]
  },
  {
   "cell_type": "markdown",
   "metadata": {},
   "source": [
    "---\n",
    "## Exercise 33: While Loops"
   ]
  },
  {
   "cell_type": "code",
   "execution_count": 91,
   "metadata": {
    "collapsed": true
   },
   "outputs": [],
   "source": [
    "i = 0\n",
    "numbers = []"
   ]
  },
  {
   "cell_type": "code",
   "execution_count": 92,
   "metadata": {
    "collapsed": false
   },
   "outputs": [
    {
     "name": "stdout",
     "output_type": "stream",
     "text": [
      "At the top i is 0\n",
      "Numbers now:  [0]\n",
      "At the bottom i is 1\n",
      "At the top i is 1\n",
      "Numbers now:  [0, 1]\n",
      "At the bottom i is 2\n",
      "At the top i is 2\n",
      "Numbers now:  [0, 1, 2]\n",
      "At the bottom i is 3\n",
      "At the top i is 3\n",
      "Numbers now:  [0, 1, 2, 3]\n",
      "At the bottom i is 4\n",
      "At the top i is 4\n",
      "Numbers now:  [0, 1, 2, 3, 4]\n",
      "At the bottom i is 5\n",
      "At the top i is 5\n",
      "Numbers now:  [0, 1, 2, 3, 4, 5]\n",
      "At the bottom i is 6\n"
     ]
    }
   ],
   "source": [
    "while i < 6:\n",
    "    print \"At the top i is %d\" % i\n",
    "    numbers.append(i)\n",
    "\n",
    "    i = i + 1\n",
    "    print \"Numbers now: \", numbers\n",
    "    print \"At the bottom i is %d\" % i"
   ]
  },
  {
   "cell_type": "code",
   "execution_count": 93,
   "metadata": {
    "collapsed": false
   },
   "outputs": [
    {
     "name": "stdout",
     "output_type": "stream",
     "text": [
      "The numbers: \n",
      "0\n",
      "1\n",
      "2\n",
      "3\n",
      "4\n",
      "5\n"
     ]
    }
   ],
   "source": [
    "print \"The numbers: \"\n",
    "for num in numbers:\n",
    "    print num"
   ]
  },
  {
   "cell_type": "markdown",
   "metadata": {},
   "source": [
    "---\n",
    "## Exercise 34: Accessing Elements of Lists"
   ]
  },
  {
   "cell_type": "code",
   "execution_count": 94,
   "metadata": {
    "collapsed": true
   },
   "outputs": [],
   "source": [
    "animals = ['bear', 'python', 'peacock', 'kangaroo', 'whale', 'platypus']"
   ]
  },
  {
   "cell_type": "code",
   "execution_count": 95,
   "metadata": {
    "collapsed": false
   },
   "outputs": [
    {
     "data": {
      "text/plain": [
       "'python'"
      ]
     },
     "execution_count": 95,
     "metadata": {},
     "output_type": "execute_result"
    }
   ],
   "source": [
    "animals[1] #The animal at 1."
   ]
  },
  {
   "cell_type": "code",
   "execution_count": 96,
   "metadata": {
    "collapsed": false
   },
   "outputs": [
    {
     "data": {
      "text/plain": [
       "'kangaroo'"
      ]
     },
     "execution_count": 96,
     "metadata": {},
     "output_type": "execute_result"
    }
   ],
   "source": [
    "animals[3] #The third (3rd) animal."
   ]
  },
  {
   "cell_type": "code",
   "execution_count": 97,
   "metadata": {
    "collapsed": false
   },
   "outputs": [
    {
     "data": {
      "text/plain": [
       "'bear'"
      ]
     },
     "execution_count": 97,
     "metadata": {},
     "output_type": "execute_result"
    }
   ],
   "source": [
    "animals[0] #The first (1st) animal."
   ]
  },
  {
   "cell_type": "code",
   "execution_count": 98,
   "metadata": {
    "collapsed": false
   },
   "outputs": [
    {
     "data": {
      "text/plain": [
       "'kangaroo'"
      ]
     },
     "execution_count": 98,
     "metadata": {},
     "output_type": "execute_result"
    }
   ],
   "source": [
    "animals[3] #The animal at 3."
   ]
  },
  {
   "cell_type": "code",
   "execution_count": 99,
   "metadata": {
    "collapsed": false
   },
   "outputs": [
    {
     "data": {
      "text/plain": [
       "'whale'"
      ]
     },
     "execution_count": 99,
     "metadata": {},
     "output_type": "execute_result"
    }
   ],
   "source": [
    "animals[4] #The fifth (5th) animal."
   ]
  },
  {
   "cell_type": "code",
   "execution_count": 100,
   "metadata": {
    "collapsed": false
   },
   "outputs": [
    {
     "data": {
      "text/plain": [
       "'peacock'"
      ]
     },
     "execution_count": 100,
     "metadata": {},
     "output_type": "execute_result"
    }
   ],
   "source": [
    "animals[2] #The animal at 2."
   ]
  },
  {
   "cell_type": "code",
   "execution_count": 101,
   "metadata": {
    "collapsed": false
   },
   "outputs": [
    {
     "data": {
      "text/plain": [
       "'platypus'"
      ]
     },
     "execution_count": 101,
     "metadata": {},
     "output_type": "execute_result"
    }
   ],
   "source": [
    "animals[5] #The sixth (6th) animal."
   ]
  },
  {
   "cell_type": "code",
   "execution_count": 102,
   "metadata": {
    "collapsed": false
   },
   "outputs": [
    {
     "data": {
      "text/plain": [
       "'whale'"
      ]
     },
     "execution_count": 102,
     "metadata": {},
     "output_type": "execute_result"
    }
   ],
   "source": [
    "animals[4] #The animal at 4."
   ]
  }
 ],
 "metadata": {
  "kernelspec": {
   "display_name": "Python 2",
   "language": "python",
   "name": "python2"
  },
  "language_info": {
   "codemirror_mode": {
    "name": "ipython",
    "version": 2
   },
   "file_extension": ".py",
   "mimetype": "text/x-python",
   "name": "python",
   "nbconvert_exporter": "python",
   "pygments_lexer": "ipython2",
   "version": "2.7.11"
  }
 },
 "nbformat": 4,
 "nbformat_minor": 0
}
