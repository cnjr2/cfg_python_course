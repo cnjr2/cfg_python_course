{
 "cells": [
  {
   "cell_type": "markdown",
   "metadata": {},
   "source": [
    "# Python Week 1 Notes\n",
    "\n",
    "Here are some quick exercises recapping some of te things we've seen in Week 1 of the Python course. Have fun! :)"
   ]
  },
  {
   "cell_type": "code",
   "execution_count": 2,
   "metadata": {
    "collapsed": false
   },
   "outputs": [
    {
     "name": "stdout",
     "output_type": "stream",
     "text": [
      "2\n",
      "-3\n",
      "-1\n"
     ]
    }
   ],
   "source": [
    "# python's integer division floors\n",
    "# floor rounds values to the nearest integer toward negative infinity\n",
    "# ceil rounds values to the nearest integer toward positive infinity\n",
    "print 5/2\n",
    "print -5/2\n",
    "print -1/4 "
   ]
  },
  {
   "cell_type": "code",
   "execution_count": 1,
   "metadata": {
    "collapsed": false
   },
   "outputs": [
    {
     "name": "stdout",
     "output_type": "stream",
     "text": [
      "16\n",
      "16\n"
     ]
    }
   ],
   "source": [
    "# Here are some ways to write powers\n",
    "print 2**4\n",
    "print pow(2,4)"
   ]
  },
  {
   "cell_type": "code",
   "execution_count": 14,
   "metadata": {
    "collapsed": false
   },
   "outputs": [
    {
     "name": "stdout",
     "output_type": "stream",
     "text": [
      "HELLO\n",
      "goodbye\n",
      "The Lord Of The Rings\n"
     ]
    }
   ],
   "source": [
    "# here are three useful string formatting functions\n",
    "print \"hello\".upper()\n",
    "print \"GOODBYE\".lower()\n",
    "print \"the lord of the rings\".title()"
   ]
  },
  {
   "cell_type": "code",
   "execution_count": 12,
   "metadata": {
    "collapsed": false
   },
   "outputs": [
    {
     "name": "stdout",
     "output_type": "stream",
     "text": [
      "ab ab\n",
      "ab\n"
     ]
    }
   ],
   "source": [
    "# when printing a string, we can choose if we want to print a new line or not\n",
    "print \"a\" + \"b\"\n",
    "print \"a\" + \"b\",\n",
    "print \"a\" + \"b\""
   ]
  },
  {
   "cell_type": "code",
   "execution_count": 13,
   "metadata": {
    "collapsed": false
   },
   "outputs": [
    {
     "name": "stdout",
     "output_type": "stream",
     "text": [
      "\n",
      "There's something going on here.\n",
      "With the three double-quotes.\n",
      "We'll be able to type as much as we like.\n",
      "Even 4 lines if we want, or 5, or 6.\n",
      "\n"
     ]
    }
   ],
   "source": [
    "# multi line printing\n",
    "print \"\"\"\n",
    "There's something going on here.\n",
    "With the three double-quotes.\n",
    "We'll be able to type as much as we like.\n",
    "Even 4 lines if we want, or 5, or 6.\n",
    "\"\"\""
   ]
  },
  {
   "cell_type": "code",
   "execution_count": 25,
   "metadata": {
    "collapsed": false
   },
   "outputs": [
    {
     "name": "stdout",
     "output_type": "stream",
     "text": [
      "This is the left side of... a string with a right side.\n",
      "This is the left side of...a string with a right side.\n",
      "This is the left side of... a string with a right side.\n",
      "This is the left side of...a string with a right side.\n",
      "This is the left side of...a string with a right side.\n",
      "This is the left side of...   a string with a right side.\n",
      "This is the left side of...XXXXXa string with a right side.\n"
     ]
    }
   ],
   "source": [
    "# There are several ways of joining strings together \n",
    "print w,e\n",
    "print w + e\n",
    "print w + \" \" + e\n",
    "print \"%s%s\" % (w, e)\n",
    "print \"\".join([w,e])\n",
    "print \"   \".join([w,e])\n",
    "print \"XXXXX\".join([w,e])"
   ]
  },
  {
   "cell_type": "code",
   "execution_count": 21,
   "metadata": {
    "collapsed": false
   },
   "outputs": [
    {
     "name": "stdout",
     "output_type": "stream",
     "text": [
      "My age is 5 and I like painting\n",
      "My age is 5 and I like painting\n",
      "My age is 5 and I like painting\n",
      "My age is 5 and I like painting\n",
      "My age is 5 and I like painting\n",
      "My age is 5.000000 and I like painting. Did I mention I am 5?\n",
      "My age is    5 and I like painting. Did I mention I am 5?\n"
     ]
    }
   ],
   "source": [
    "# here are some examples of formatting text\n",
    "# there's a variety of ways to do it\n",
    "print \"My age is {0} and I like {1}\".format(5, \"painting\")\n",
    "print \"My age is %d and I like %s\" % (5, \"painting\")\n",
    "\n",
    "# now with variables\n",
    "age = 5\n",
    "like = \"painting\"\n",
    "\n",
    "print \"My age is {0} and I like {1}\".format(age, like)\n",
    "print \"My age is %d and I like %s\" % (age, like)\n",
    "print \"My age is \" + str(age) + \" and I like \" + like\n",
    "\n",
    "age_description = \"My age is {0:4d} and I like {1}. Did I mention I am {0}?\".format(age, like)\n",
    "print \"My age is {0:4f} and I like {1}. Did I mention I am {0}?\".format(age, like)\n",
    "\n",
    "print age_description"
   ]
  },
  {
   "cell_type": "code",
   "execution_count": 24,
   "metadata": {
    "collapsed": false
   },
   "outputs": [
    {
     "name": "stdout",
     "output_type": "stream",
     "text": [
      "Talking about my cats\n",
      "Talking about my cats\n",
      "Talking about my cats\n",
      "Talking about my cats\n",
      "Talking about my cats\n",
      "Talking about my cats                                     and stuff\n"
     ]
    }
   ],
   "source": [
    "# here are some other formatting examples\n",
    "print \"Come on grab your {0:10d} friends and {1:40.2f} princesses\".format(47,11.9557)\n",
    "\n",
    "the_thing = \"cats\"\n",
    "print \"Talking about my %s\" % \"cats\"\n",
    "print \"Talking about my %s\" % the_thing\n",
    "\n",
    "print \"Talking about my {0}\".format(\"cats\")\n",
    "print \"Talking about my {0}\".format(the_thing)\n",
    "print \"Talking about my {0:s}\".format(\"cats\")\n",
    "\n",
    "print \"Talking about my {0:40s} and stuff\".format(\"cats\")"
   ]
  },
  {
   "cell_type": "code",
   "execution_count": 14,
   "metadata": {
    "collapsed": false
   },
   "outputs": [
    {
     "name": "stdout",
     "output_type": "stream",
     "text": [
      "How old are you? 3\n",
      "How tall are you? 4\n",
      "How much do you weigh? 23\n",
      "So, you're '3' old, '4' tall and '23' heavy.\n"
     ]
    }
   ],
   "source": [
    "# we can prompt a user to input text\n",
    "age = raw_input(\"How old are you? \")\n",
    "height = raw_input(\"How tall are you? \")\n",
    "weight = raw_input(\"How much do you weigh? \")\n",
    "\n",
    "print \"So, you're %r old, %r tall and %r heavy.\" % (\n",
    "    age, height, weight)"
   ]
  },
  {
   "cell_type": "code",
   "execution_count": 55,
   "metadata": {
    "collapsed": false
   },
   "outputs": [
    {
     "name": "stdout",
     "output_type": "stream",
     "text": [
      "Let's talk about Zed A. Shaw.\n",
      "He's 74 inches tall.\n",
      "He's 180 pounds heavy.\n",
      "Actually that's not too heavy.\n",
      "He's got Blue eyes and Brown hair.\n",
      "His teeth are usually White depending on the coffee.\n",
      "If I add 35, 74, and 180 I get 289.\n"
     ]
    }
   ],
   "source": [
    "# here is a recap exercise from the book\n",
    "my_name = 'Zed A. Shaw'\n",
    "my_age = 35 # not a lie\n",
    "my_height = 74 # inches\n",
    "my_weight = 180 # lbs\n",
    "my_eyes = 'Blue'\n",
    "my_teeth = 'White'\n",
    "my_hair = 'Brown'\n",
    "\n",
    "print \"Let's talk about %s.\" % my_name\n",
    "print \"He's %d inches tall.\" % my_height\n",
    "print \"He's %d pounds heavy.\" % my_weight\n",
    "print \"Actually that's not too heavy.\"\n",
    "print \"He's got %s eyes and %s hair.\" % (my_eyes, my_hair)\n",
    "print \"His teeth are usually %s depending on the coffee.\" % my_teeth\n",
    "\n",
    "# this line is tricky, try to get it exactly right\n",
    "print \"If I add %d, %d, and %d I get %d.\" % (\n",
    "    my_age, my_height, my_weight, my_age + my_height + my_weight)\n"
   ]
  },
  {
   "cell_type": "code",
   "execution_count": 30,
   "metadata": {
    "collapsed": false
   },
   "outputs": [
    {
     "name": "stdout",
     "output_type": "stream",
     "text": [
      "Talking about my \n",
      "cats\n",
      "Talking about my '\\ncats'\n"
     ]
    }
   ],
   "source": [
    "# so, we see that %f is for floats, %s for strings, %d for decimals (like integers)\n",
    "# meanwhile, the %r is the \"raw\" output. Uses repr(), while %s uses str()\n",
    "# here is an example that shows the difference between the two\n",
    "print \"Talking about my %s\" % \"\\ncats\"\n",
    "print \"Talking about my %r\" % \"\\ncats\""
   ]
  },
  {
   "cell_type": "code",
   "execution_count": 31,
   "metadata": {
    "collapsed": false
   },
   "outputs": [
    {
     "name": "stdout",
     "output_type": "stream",
     "text": [
      "2016-02-04\n",
      "datetime.date(2016, 2, 4)\n"
     ]
    }
   ],
   "source": [
    "# here is a distinction you might encounter in a wild\n",
    "import datetime\n",
    "date = datetime.date.today()\n",
    "print str(date)\n",
    "print repr(date)"
   ]
  }
 ],
 "metadata": {
  "kernelspec": {
   "display_name": "Python 2",
   "language": "python",
   "name": "python2"
  },
  "language_info": {
   "codemirror_mode": {
    "name": "ipython",
    "version": 2
   },
   "file_extension": ".py",
   "mimetype": "text/x-python",
   "name": "python",
   "nbconvert_exporter": "python",
   "pygments_lexer": "ipython2",
   "version": "2.7.11"
  }
 },
 "nbformat": 4,
 "nbformat_minor": 0
}
